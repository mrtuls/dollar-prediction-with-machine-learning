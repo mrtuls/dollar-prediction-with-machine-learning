{
 "cells": [
  {
   "cell_type": "markdown",
   "metadata": {},
   "source": [
    "# Makina Öğrenmesi ile Dolar Kuru Tahmini"
   ]
  },
  {
   "cell_type": "markdown",
   "metadata": {},
   "source": [
    "## Kullanılan Kütüphaneler\n",
    "### Pandas : Pandas ile bir veri bilimi projesindeki veri okuma, veri ön işleme ve veri temizleme aşamaları yapılır.\n",
    "### Numpy : Çok boyutlu dizilerle ve matrislerle çalışmamızı sağlayan ve matematiksel işlemler yapabileceğimiz bir kütüphanedir\n",
    "### Keras : Neredeyse her tür derin öğrenme modelini tanımlamak ve eğitmek için uygun bir yol sağlayan Python için bir derin öğrenme kütüphanesidir.\n",
    "### Matplotlib : Veri görselleştirmesinde kullandığımız temel python kütüphanesidir. 2 ve 3 boyutlu çizimler yapmamızı sağlar.\n",
    "### Sklearn : Scikit-learn veya Sklearn makine öğrenmesi modelleri oluşturmak için kullanılan Python temelli bir kütüphanedir. Regresyon, kümeleme ve sınıflandırma için kullanılan pek çok öğrenme algoritmasına sahiptir. Sklearn NumPy ve SciPy ile uyumludur."
   ]
  },
  {
   "cell_type": "code",
   "execution_count": 14,
   "metadata": {},
   "outputs": [],
   "source": [
    "import math\n",
    "import pandas_datareader as web\n",
    "import numpy as np\n",
    "import pandas as pd\n",
    "from sklearn.preprocessing import MinMaxScaler\n",
    "from keras.models import Sequential\n",
    "from keras.layers import Dense, LSTM\n",
    "import matplotlib.pyplot as plt\n",
    "import matplotlib.mlab as mlab\n",
    "plt.style.use('fivethirtyeight')"
   ]
  },
  {
   "cell_type": "markdown",
   "metadata": {},
   "source": [
    "## Veriyi yahoo üzerinden çekme işlemi\n",
    "## Verideki satır ve sütün sayısı"
   ]
  },
  {
   "cell_type": "code",
   "execution_count": 15,
   "metadata": {},
   "outputs": [
    {
     "data": {
      "text/html": [
       "<div>\n",
       "<style scoped>\n",
       "    .dataframe tbody tr th:only-of-type {\n",
       "        vertical-align: middle;\n",
       "    }\n",
       "\n",
       "    .dataframe tbody tr th {\n",
       "        vertical-align: top;\n",
       "    }\n",
       "\n",
       "    .dataframe thead th {\n",
       "        text-align: right;\n",
       "    }\n",
       "</style>\n",
       "<table border=\"1\" class=\"dataframe\">\n",
       "  <thead>\n",
       "    <tr style=\"text-align: right;\">\n",
       "      <th></th>\n",
       "      <th>High</th>\n",
       "      <th>Low</th>\n",
       "      <th>Open</th>\n",
       "      <th>Close</th>\n",
       "      <th>Volume</th>\n",
       "      <th>Adj Close</th>\n",
       "    </tr>\n",
       "    <tr>\n",
       "      <th>Date</th>\n",
       "      <th></th>\n",
       "      <th></th>\n",
       "      <th></th>\n",
       "      <th></th>\n",
       "      <th></th>\n",
       "      <th></th>\n",
       "    </tr>\n",
       "  </thead>\n",
       "  <tbody>\n",
       "    <tr>\n",
       "      <th>2006-01-02</th>\n",
       "      <td>1.35050</td>\n",
       "      <td>1.34250</td>\n",
       "      <td>1.35000</td>\n",
       "      <td>1.34950</td>\n",
       "      <td>0.0</td>\n",
       "      <td>1.34950</td>\n",
       "    </tr>\n",
       "    <tr>\n",
       "      <th>2006-01-03</th>\n",
       "      <td>1.34950</td>\n",
       "      <td>1.33500</td>\n",
       "      <td>1.34950</td>\n",
       "      <td>1.34200</td>\n",
       "      <td>0.0</td>\n",
       "      <td>1.34200</td>\n",
       "    </tr>\n",
       "    <tr>\n",
       "      <th>2006-01-04</th>\n",
       "      <td>1.34200</td>\n",
       "      <td>1.32750</td>\n",
       "      <td>1.34200</td>\n",
       "      <td>1.33280</td>\n",
       "      <td>0.0</td>\n",
       "      <td>1.33280</td>\n",
       "    </tr>\n",
       "    <tr>\n",
       "      <th>2006-01-05</th>\n",
       "      <td>1.33740</td>\n",
       "      <td>1.32750</td>\n",
       "      <td>1.33280</td>\n",
       "      <td>1.33250</td>\n",
       "      <td>0.0</td>\n",
       "      <td>1.33250</td>\n",
       "    </tr>\n",
       "    <tr>\n",
       "      <th>2006-01-06</th>\n",
       "      <td>1.33620</td>\n",
       "      <td>1.30750</td>\n",
       "      <td>1.33250</td>\n",
       "      <td>1.32800</td>\n",
       "      <td>0.0</td>\n",
       "      <td>1.32800</td>\n",
       "    </tr>\n",
       "    <tr>\n",
       "      <th>...</th>\n",
       "      <td>...</td>\n",
       "      <td>...</td>\n",
       "      <td>...</td>\n",
       "      <td>...</td>\n",
       "      <td>...</td>\n",
       "      <td>...</td>\n",
       "    </tr>\n",
       "    <tr>\n",
       "      <th>2021-04-25</th>\n",
       "      <td>8.47983</td>\n",
       "      <td>8.27817</td>\n",
       "      <td>8.40676</td>\n",
       "      <td>8.40616</td>\n",
       "      <td>0.0</td>\n",
       "      <td>8.40616</td>\n",
       "    </tr>\n",
       "    <tr>\n",
       "      <th>2021-04-26</th>\n",
       "      <td>8.29141</td>\n",
       "      <td>8.17930</td>\n",
       "      <td>8.28990</td>\n",
       "      <td>8.29030</td>\n",
       "      <td>0.0</td>\n",
       "      <td>8.29030</td>\n",
       "    </tr>\n",
       "    <tr>\n",
       "      <th>2021-04-27</th>\n",
       "      <td>8.23985</td>\n",
       "      <td>8.15870</td>\n",
       "      <td>8.22340</td>\n",
       "      <td>8.20594</td>\n",
       "      <td>0.0</td>\n",
       "      <td>8.20594</td>\n",
       "    </tr>\n",
       "    <tr>\n",
       "      <th>2021-04-28</th>\n",
       "      <td>8.24920</td>\n",
       "      <td>8.14060</td>\n",
       "      <td>8.19990</td>\n",
       "      <td>8.18489</td>\n",
       "      <td>0.0</td>\n",
       "      <td>8.18489</td>\n",
       "    </tr>\n",
       "    <tr>\n",
       "      <th>2021-04-29</th>\n",
       "      <td>8.31147</td>\n",
       "      <td>8.18517</td>\n",
       "      <td>8.20330</td>\n",
       "      <td>8.18488</td>\n",
       "      <td>0.0</td>\n",
       "      <td>8.18488</td>\n",
       "    </tr>\n",
       "  </tbody>\n",
       "</table>\n",
       "<p>3967 rows × 6 columns</p>\n",
       "</div>"
      ],
      "text/plain": [
       "               High      Low     Open    Close  Volume  Adj Close\n",
       "Date                                                             \n",
       "2006-01-02  1.35050  1.34250  1.35000  1.34950     0.0    1.34950\n",
       "2006-01-03  1.34950  1.33500  1.34950  1.34200     0.0    1.34200\n",
       "2006-01-04  1.34200  1.32750  1.34200  1.33280     0.0    1.33280\n",
       "2006-01-05  1.33740  1.32750  1.33280  1.33250     0.0    1.33250\n",
       "2006-01-06  1.33620  1.30750  1.33250  1.32800     0.0    1.32800\n",
       "...             ...      ...      ...      ...     ...        ...\n",
       "2021-04-25  8.47983  8.27817  8.40676  8.40616     0.0    8.40616\n",
       "2021-04-26  8.29141  8.17930  8.28990  8.29030     0.0    8.29030\n",
       "2021-04-27  8.23985  8.15870  8.22340  8.20594     0.0    8.20594\n",
       "2021-04-28  8.24920  8.14060  8.19990  8.18489     0.0    8.18489\n",
       "2021-04-29  8.31147  8.18517  8.20330  8.18488     0.0    8.18488\n",
       "\n",
       "[3967 rows x 6 columns]"
      ]
     },
     "execution_count": 15,
     "metadata": {},
     "output_type": "execute_result"
    }
   ],
   "source": [
    "df = web.DataReader('USDTRY=X', data_source='yahoo',start='2006-01-01',end='2021-05-01')#tarih değeraralıkları\n",
    "df.shape\n",
    "df"
   ]
  },
  {
   "cell_type": "markdown",
   "metadata": {},
   "source": [
    "## Fiyat geçmişini veren grafik"
   ]
  },
  {
   "cell_type": "code",
   "execution_count": 16,
   "metadata": {},
   "outputs": [
    {
     "data": {
      "image/png": "[encoded data removed]",
      "text/plain": [
       "<Figure size 1152x576 with 1 Axes>"
      ]
     },
     "metadata": {},
     "output_type": "display_data"
    }
   ],
   "source": [
    "plt.figure(figsize=(16,8))\n",
    "plt.title('Fiyat Geçmişi')\n",
    "plt.plot(df['Close'])\n",
    "plt.xlabel('Tarih', fontsize=18)\n",
    "plt.ylabel('TL', fontsize=18)\n",
    "plt.show()"
   ]
  },
  {
   "cell_type": "markdown",
   "metadata": {},
   "source": [
    "## Kapanış fiyatları için yeni bir veri seti oluşturma işlemi\n",
    "## Eğitilecek verinin büyüklüğünün hesaplanması"
   ]
  },
  {
   "cell_type": "code",
   "execution_count": 17,
   "metadata": {},
   "outputs": [
    {
     "data": {
      "text/plain": [
       "3174"
      ]
     },
     "execution_count": 17,
     "metadata": {},
     "output_type": "execute_result"
    }
   ],
   "source": [
    "data = df.filter(['Close'])\n",
    "\n",
    "dataset = data.values\n",
    "training_data_len = math.ceil( len(dataset) *.8)\n",
    "\n",
    "training_data_len\n"
   ]
  },
  {
   "cell_type": "markdown",
   "metadata": {},
   "source": [
    "## Veriyi ölçeklendirme işlemi (tüm veriyi 0 ile 1 arasında değerlere atama)"
   ]
  },
  {
   "cell_type": "code",
   "execution_count": 18,
   "metadata": {},
   "outputs": [
    {
     "data": {
      "text/plain": [
       "array([[0.02839055],\n",
       "       [0.02736291],\n",
       "       [0.02610233],\n",
       "       ...,\n",
       "       [0.96786057],\n",
       "       [0.96497623],\n",
       "       [0.96497493]])"
      ]
     },
     "execution_count": 18,
     "metadata": {},
     "output_type": "execute_result"
    }
   ],
   "source": [
    "scaler = MinMaxScaler(feature_range=(0,1))\n",
    "scaled_data = scaler.fit_transform(dataset)\n",
    "\n",
    "scaled_data"
   ]
  },
  {
   "cell_type": "markdown",
   "metadata": {},
   "source": [
    "## Eğitilecek veri setinin oluşturulması\n",
    "## Ölçeklendirilmiş verinin eğitilecek veri seti oluşturulması"
   ]
  },
  {
   "cell_type": "code",
   "execution_count": 19,
   "metadata": {},
   "outputs": [
    {
     "name": "stdout",
     "output_type": "stream",
     "text": [
      "[array([0.02839055, 0.02736291, 0.02610233, 0.02606122, 0.02544462,\n",
      "       0.02626675, 0.02756844, 0.02623934, 0.02647228, 0.02660931,\n",
      "       0.02562276, 0.02667781, 0.02660931, 0.02640377, 0.02640377,\n",
      "       0.02496505, 0.02475952, 0.02448548, 0.02493766, 0.02411553,\n",
      "       0.02475952, 0.02475952, 0.02475952, 0.02475952, 0.02475952,\n",
      "       0.02537612, 0.02571867, 0.02571867, 0.02571867, 0.02571867,\n",
      "       0.02517058, 0.02523911, 0.02619824, 0.02537612, 0.02427995,\n",
      "       0.02373188, 0.0238963 , 0.02475952, 0.02445808, 0.02434847,\n",
      "       0.02334823, 0.02338932, 0.02263572, 0.02174509, 0.02212874,\n",
      "       0.0232797 , 0.02592421, 0.02925379, 0.02825354, 0.02845907,\n",
      "       0.02765065, 0.02636266, 0.02667781, 0.02400592, 0.02421145,\n",
      "       0.02578718, 0.02745882, 0.02715738, 0.02736291, 0.02612972])]\n",
      "[0.02804800993816886]\n",
      "\n",
      "[array([0.02839055, 0.02736291, 0.02610233, 0.02606122, 0.02544462,\n",
      "       0.02626675, 0.02756844, 0.02623934, 0.02647228, 0.02660931,\n",
      "       0.02562276, 0.02667781, 0.02660931, 0.02640377, 0.02640377,\n",
      "       0.02496505, 0.02475952, 0.02448548, 0.02493766, 0.02411553,\n",
      "       0.02475952, 0.02475952, 0.02475952, 0.02475952, 0.02475952,\n",
      "       0.02537612, 0.02571867, 0.02571867, 0.02571867, 0.02571867,\n",
      "       0.02517058, 0.02523911, 0.02619824, 0.02537612, 0.02427995,\n",
      "       0.02373188, 0.0238963 , 0.02475952, 0.02445808, 0.02434847,\n",
      "       0.02334823, 0.02338932, 0.02263572, 0.02174509, 0.02212874,\n",
      "       0.0232797 , 0.02592421, 0.02925379, 0.02825354, 0.02845907,\n",
      "       0.02765065, 0.02636266, 0.02667781, 0.02400592, 0.02421145,\n",
      "       0.02578718, 0.02745882, 0.02715738, 0.02736291, 0.02612972]), array([0.02736291, 0.02610233, 0.02606122, 0.02544462, 0.02626675,\n",
      "       0.02756844, 0.02623934, 0.02647228, 0.02660931, 0.02562276,\n",
      "       0.02667781, 0.02660931, 0.02640377, 0.02640377, 0.02496505,\n",
      "       0.02475952, 0.02448548, 0.02493766, 0.02411553, 0.02475952,\n",
      "       0.02475952, 0.02475952, 0.02475952, 0.02475952, 0.02537612,\n",
      "       0.02571867, 0.02571867, 0.02571867, 0.02571867, 0.02517058,\n",
      "       0.02523911, 0.02619824, 0.02537612, 0.02427995, 0.02373188,\n",
      "       0.0238963 , 0.02475952, 0.02445808, 0.02434847, 0.02334823,\n",
      "       0.02338932, 0.02263572, 0.02174509, 0.02212874, 0.0232797 ,\n",
      "       0.02592421, 0.02925379, 0.02825354, 0.02845907, 0.02765065,\n",
      "       0.02636266, 0.02667781, 0.02400592, 0.02421145, 0.02578718,\n",
      "       0.02745882, 0.02715738, 0.02736291, 0.02612972, 0.02804801])]\n",
      "[0.02804800993816886, 0.028198724371461453]\n",
      "\n"
     ]
    }
   ],
   "source": [
    "train_data = scaled_data[0:training_data_len, :]\n",
    "\n",
    "x_train = []\n",
    "y_train = []\n",
    "\n",
    "for i in range (60,len (train_data)):\n",
    "    x_train.append(train_data[i-60:i,0])\n",
    "    y_train.append(train_data[i, 0])\n",
    "    if i<=61:\n",
    "        print(x_train)\n",
    "        print(y_train)\n",
    "        print()"
   ]
  },
  {
   "cell_type": "markdown",
   "metadata": {},
   "source": [
    "## x_train ve y_train kümlerini numpy dizilerine dönüştürme"
   ]
  },
  {
   "cell_type": "code",
   "execution_count": 20,
   "metadata": {},
   "outputs": [],
   "source": [
    "x_train, y_train = np.array(x_train), np.array(y_train)"
   ]
  },
  {
   "cell_type": "markdown",
   "metadata": {},
   "source": [
    "## Veriyi 3 boyutlu olacak şekilde yeniden şekillendirme işlemi "
   ]
  },
  {
   "cell_type": "code",
   "execution_count": 21,
   "metadata": {},
   "outputs": [
    {
     "data": {
      "text/plain": [
       "(3114, 60, 1)"
      ]
     },
     "execution_count": 21,
     "metadata": {},
     "output_type": "execute_result"
    }
   ],
   "source": [
    "x_train = np.reshape(x_train,(x_train.shape[0], x_train.shape[1],1))\n",
    "x_train.shape"
   ]
  },
  {
   "cell_type": "markdown",
   "metadata": {},
   "source": [
    "## Modelini oluşturma"
   ]
  },
  {
   "cell_type": "code",
   "execution_count": 22,
   "metadata": {},
   "outputs": [],
   "source": [
    "model = Sequential()\n",
    "model.add(LSTM(50,return_sequences= True, input_shape = (x_train.shape[1],1)))\n",
    "model.add(LSTM(50,return_sequences= False))\n",
    "model.add(Dense(25))\n",
    "model.add(Dense(1))\n",
    "model.compile(optimizer='adam', loss='mean_squared_error')"
   ]
  },
  {
   "cell_type": "markdown",
   "metadata": {},
   "source": [
    "## Modelin eğitilmesi"
   ]
  },
  {
   "cell_type": "code",
   "execution_count": 23,
   "metadata": {},
   "outputs": [
    {
     "name": "stdout",
     "output_type": "stream",
     "text": [
      "3114/3114 [==============================] - 55s 16ms/step - loss: 7.0161e-04 0s - loss: 7.0401\n"
     ]
    },
    {
     "data": {
      "text/plain": [
       "<keras.callbacks.History at 0x1a10e189ee0>"
      ]
     },
     "execution_count": 23,
     "metadata": {},
     "output_type": "execute_result"
    }
   ],
   "source": [
    "model.fit(x_train, y_train, batch_size=1, epochs=1)"
   ]
  },
  {
   "cell_type": "markdown",
   "metadata": {},
   "source": [
    "## Test edilecek veri setlerinin oluşturulması"
   ]
  },
  {
   "cell_type": "code",
   "execution_count": 24,
   "metadata": {},
   "outputs": [],
   "source": [
    "test_data = scaled_data[training_data_len - 60: , :]\n",
    "\n",
    "x_test = []\n",
    "y_test = dataset[training_data_len: , :]\n",
    "for i in range(60, len(test_data)):\n",
    "    x_test.append(test_data[i-60:i, 0])"
   ]
  },
  {
   "cell_type": "markdown",
   "metadata": {},
   "source": [
    "## Test edilcek verinin numpy dizisine dönüştürme"
   ]
  },
  {
   "cell_type": "code",
   "execution_count": 25,
   "metadata": {},
   "outputs": [],
   "source": [
    "x_test = np.array(x_test)"
   ]
  },
  {
   "cell_type": "markdown",
   "metadata": {},
   "source": [
    "## Test edilcek verinin 3 boyutlu şekilde yenidene şekillendirme"
   ]
  },
  {
   "cell_type": "code",
   "execution_count": 26,
   "metadata": {},
   "outputs": [],
   "source": [
    "x_test = np.reshape(x_test, (x_test.shape[0] , x_test.shape[1] ,1))"
   ]
  },
  {
   "cell_type": "markdown",
   "metadata": {},
   "source": [
    "## Modelin tahmin ettiği fiyatları alma"
   ]
  },
  {
   "cell_type": "code",
   "execution_count": 27,
   "metadata": {},
   "outputs": [
    {
     "data": {
      "text/plain": [
       "(793, 1)"
      ]
     },
     "execution_count": 27,
     "metadata": {},
     "output_type": "execute_result"
    }
   ],
   "source": [
    "predictions = model.predict(x_test)\n",
    "predictions = scaler.inverse_transform(predictions)\n",
    "predictions\n",
    "predictions.shape"
   ]
  },
  {
   "cell_type": "markdown",
   "metadata": {},
   "source": [
    "## (RMSE) Root mean squared error (Modelin hata alma ölçüsünün hesaplanması )"
   ]
  },
  {
   "cell_type": "code",
   "execution_count": 28,
   "metadata": {},
   "outputs": [
    {
     "data": {
      "text/plain": [
       "0.11198726818811097"
      ]
     },
     "execution_count": 28,
     "metadata": {},
     "output_type": "execute_result"
    }
   ],
   "source": [
    "rmse = np.sqrt(np.mean( predictions - y_test)**2)\n",
    "rmse "
   ]
  },
  {
   "cell_type": "markdown",
   "metadata": {},
   "source": [
    "## Veri grafiği "
   ]
  },
  {
   "cell_type": "code",
   "execution_count": 29,
   "metadata": {},
   "outputs": [
    {
     "name": "stderr",
     "output_type": "stream",
     "text": [
      "<ipython-input-29-7698eeeb1def>:3: SettingWithCopyWarning: \n",
      "A value is trying to be set on a copy of a slice from a DataFrame.\n",
      "Try using .loc[row_indexer,col_indexer] = value instead\n",
      "\n",
      "See the caveats in the documentation: https://pandas.pydata.org/pandas-docs/stable/user_guide/indexing.html#returning-a-view-versus-a-copy\n",
      "  valid['Predictions'] = predictions\n"
     ]
    },
    {
     "data": {
      "image/png": "[encoded data removed]",
      "text/plain": [
       "<Figure size 1152x576 with 1 Axes>"
      ]
     },
     "metadata": {},
     "output_type": "display_data"
    }
   ],
   "source": [
    "train = data [:training_data_len]\n",
    "valid = data [training_data_len:]\n",
    "valid['Predictions'] = predictions\n",
    "\n",
    "plt.figure(figsize=(16,8))\n",
    "plt.title('Model')\n",
    "plt.xlabel('Date', fontsize=18)\n",
    "plt.ylabel('Kapanış Fiyatları', fontsize=18)\n",
    "plt.plot(train['Close'])\n",
    "plt.plot(valid[['Close', 'Predictions']])\n",
    "plt.legend(['Eğitilen veri','Test edilen veri','Tahimnler'], loc= 'lower right')\n",
    "plt.show()"
   ]
  },
  {
   "cell_type": "markdown",
   "metadata": {},
   "source": [
    "## Gerçek ve tahmini fiyatlar"
   ]
  },
  {
   "cell_type": "code",
   "execution_count": 30,
   "metadata": {},
   "outputs": [
    {
     "data": {
      "text/html": [
       "<div>\n",
       "<style scoped>\n",
       "    .dataframe tbody tr th:only-of-type {\n",
       "        vertical-align: middle;\n",
       "    }\n",
       "\n",
       "    .dataframe tbody tr th {\n",
       "        vertical-align: top;\n",
       "    }\n",
       "\n",
       "    .dataframe thead th {\n",
       "        text-align: right;\n",
       "    }\n",
       "</style>\n",
       "<table border=\"1\" class=\"dataframe\">\n",
       "  <thead>\n",
       "    <tr style=\"text-align: right;\">\n",
       "      <th></th>\n",
       "      <th>Close</th>\n",
       "      <th>Predictions</th>\n",
       "    </tr>\n",
       "    <tr>\n",
       "      <th>Date</th>\n",
       "      <th></th>\n",
       "      <th></th>\n",
       "    </tr>\n",
       "  </thead>\n",
       "  <tbody>\n",
       "    <tr>\n",
       "      <th>2018-03-20</th>\n",
       "      <td>3.94329</td>\n",
       "      <td>3.860764</td>\n",
       "    </tr>\n",
       "    <tr>\n",
       "      <th>2018-03-21</th>\n",
       "      <td>3.93215</td>\n",
       "      <td>3.877421</td>\n",
       "    </tr>\n",
       "    <tr>\n",
       "      <th>2018-03-22</th>\n",
       "      <td>3.90877</td>\n",
       "      <td>3.892006</td>\n",
       "    </tr>\n",
       "    <tr>\n",
       "      <th>2018-03-23</th>\n",
       "      <td>3.97388</td>\n",
       "      <td>3.901220</td>\n",
       "    </tr>\n",
       "    <tr>\n",
       "      <th>2018-03-25</th>\n",
       "      <td>3.98140</td>\n",
       "      <td>3.914084</td>\n",
       "    </tr>\n",
       "    <tr>\n",
       "      <th>...</th>\n",
       "      <td>...</td>\n",
       "      <td>...</td>\n",
       "    </tr>\n",
       "    <tr>\n",
       "      <th>2021-04-25</th>\n",
       "      <td>8.40616</td>\n",
       "      <td>7.875447</td>\n",
       "    </tr>\n",
       "    <tr>\n",
       "      <th>2021-04-26</th>\n",
       "      <td>8.29030</td>\n",
       "      <td>7.916782</td>\n",
       "    </tr>\n",
       "    <tr>\n",
       "      <th>2021-04-27</th>\n",
       "      <td>8.20594</td>\n",
       "      <td>7.947881</td>\n",
       "    </tr>\n",
       "    <tr>\n",
       "      <th>2021-04-28</th>\n",
       "      <td>8.18489</td>\n",
       "      <td>7.961819</td>\n",
       "    </tr>\n",
       "    <tr>\n",
       "      <th>2021-04-29</th>\n",
       "      <td>8.18488</td>\n",
       "      <td>7.963854</td>\n",
       "    </tr>\n",
       "  </tbody>\n",
       "</table>\n",
       "<p>793 rows × 2 columns</p>\n",
       "</div>"
      ],
      "text/plain": [
       "              Close  Predictions\n",
       "Date                            \n",
       "2018-03-20  3.94329     3.860764\n",
       "2018-03-21  3.93215     3.877421\n",
       "2018-03-22  3.90877     3.892006\n",
       "2018-03-23  3.97388     3.901220\n",
       "2018-03-25  3.98140     3.914084\n",
       "...             ...          ...\n",
       "2021-04-25  8.40616     7.875447\n",
       "2021-04-26  8.29030     7.916782\n",
       "2021-04-27  8.20594     7.947881\n",
       "2021-04-28  8.18489     7.961819\n",
       "2021-04-29  8.18488     7.963854\n",
       "\n",
       "[793 rows x 2 columns]"
      ]
     },
     "execution_count": 30,
     "metadata": {},
     "output_type": "execute_result"
    }
   ],
   "source": [
    "valid"
   ]
  },
  {
   "cell_type": "code",
   "execution_count": 31,
   "metadata": {},
   "outputs": [
    {
     "name": "stdout",
     "output_type": "stream",
     "text": [
      "[[7.959869]]\n"
     ]
    }
   ],
   "source": [
    "usd_quote = web.DataReader('USDTRY=X', data_source='yahoo',start='2006-01-01',end='2021-05-01')\n",
    "\n",
    "new_df = usd_quote.filter(['Close'])\n",
    "last_60_days = new_df[-60:].values\n",
    "last_60_dasys_scaled = scaler.transform(last_60_days)\n",
    "\n",
    "x_test = []\n",
    "x_test.append(last_60_dasys_scaled)\n",
    "x_test = np.array(x_test)\n",
    "x_test = np.reshape(x_test,(x_test.shape[0], x_test.shape[1],1))\n",
    "pred_price = model.predict(x_test)\n",
    "pred_price = scaler.inverse_transform(pred_price)\n",
    "print(pred_price)"
   ]
  },
  {
   "cell_type": "code",
   "execution_count": 32,
   "metadata": {},
   "outputs": [
    {
     "name": "stdout",
     "output_type": "stream",
     "text": [
      "Date\n",
      "2021-05-02    8.27455\n",
      "Name: Close, dtype: float64\n"
     ]
    }
   ],
   "source": [
    "usd_quote2 = web.DataReader('USDTRY=X', data_source='yahoo',start='2021-05-02',end='2021-05-02')\n",
    "\n",
    "print(usd_quote2['Close'])"
   ]
  },
  {
   "cell_type": "code",
   "execution_count": null,
   "metadata": {},
   "outputs": [],
   "source": []
  }
 ],
 "metadata": {
  "kernelspec": {
   "display_name": "Python 3",
   "language": "python",
   "name": "python3"
  },
  "language_info": {
   "codemirror_mode": {
    "name": "ipython",
    "version": 3
   },
   "file_extension": ".py",
   "mimetype": "text/x-python",
   "name": "python",
   "nbconvert_exporter": "python",
   "pygments_lexer": "ipython3",
   "version": "3.8.5"
  }
 },
 "nbformat": 4,
 "nbformat_minor": 4
}
